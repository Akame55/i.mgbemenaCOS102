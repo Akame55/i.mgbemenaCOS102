{
 "cells": [
  {
   "cell_type": "code",
   "execution_count": 44,
   "metadata": {},
   "outputs": [
    {
     "name": "stdout",
     "output_type": "stream",
     "text": [
      "╒═════════╤═══════╤═══════════════╤═════════╕\n",
      "│ Name    │   Age │   Height (ft) │   Score │\n",
      "╞═════════╪═══════╪═══════════════╪═════════╡\n",
      "│ Evelyn  │    17 │           5.5 │      80 │\n",
      "├─────────┼───────┼───────────────┼─────────┤\n",
      "│ Jessica │    16 │           6   │      85 │\n",
      "├─────────┼───────┼───────────────┼─────────┤\n",
      "│ Somto   │    17 │           5.4 │      70 │\n",
      "├─────────┼───────┼───────────────┼─────────┤\n",
      "│ Edith   │    18 │           5.9 │      66 │\n",
      "├─────────┼───────┼───────────────┼─────────┤\n",
      "│ Liza    │    16 │           5.5 │      76 │\n",
      "├─────────┼───────┼───────────────┼─────────┤\n",
      "│ Madonna │    18 │           6.1 │      87 │\n",
      "├─────────┼───────┼───────────────┼─────────┤\n",
      "│ Waje    │    17 │           6   │      95 │\n",
      "├─────────┼───────┼───────────────┼─────────┤\n",
      "│ Tola    │    20 │           5.7 │      50 │\n",
      "├─────────┼───────┼───────────────┼─────────┤\n",
      "│ Aisha   │    19 │           5.5 │      49 │\n",
      "├─────────┼───────┼───────────────┼─────────┤\n",
      "│ Latifa  │    17 │           5.5 │      80 │\n",
      "╘═════════╧═══════╧═══════════════╧═════════╛\n"
     ]
    }
   ],
   "source": [
    "from tabulate import tabulate\n",
    "\n",
    "girls = [\n",
    "    (\"Evelyn\", 17, 5.5, 80),\n",
    "    (\"Jessica\", 16, 6.0, 85),\n",
    "    (\"Somto\", 17, 5.4, 70),\n",
    "    (\"Edith\", 18, 5.9, 66),\n",
    "    (\"Liza\", 16, 5.5, 76),\n",
    "    (\"Madonna\", 18, 6.1, 87),\n",
    "    (\"Waje\", 17, 6.0, 95),\n",
    "    (\"Tola\", 20, 5.7, 50),\n",
    "    (\"Aisha\", 19, 5.5, 49),\n",
    "    (\"Latifa\", 17, 5.5, 80),\n",
    "]\n",
    "\n",
    "headers:( \"Age\", \"Hhh\", \"Height (ft)\", \"Score\")\n",
    "\n",
    "print(tabulate(girls, headers=headers, tablefmt=\"fancy_grid\"))"
   ]
  },
  {
   "cell_type": "code",
   "execution_count": 35,
   "metadata": {},
   "outputs": [
    {
     "name": "stdout",
     "output_type": "stream",
     "text": [
      "0\n",
      "20\n",
      "40\n",
      "60\n",
      "80\n",
      "100\n",
      "120\n",
      "140\n",
      "160\n",
      "90\n",
      "100\n",
      "110\n",
      "120\n",
      "130\n",
      "140\n"
     ]
    }
   ],
   "source": [
    "for num in range(15):\n",
    "    if num > 8:\n",
    "      print (num * 10)\n",
    "    if num <= 8:\n",
    "       print (num * 20)"
   ]
  },
  {
   "cell_type": "code",
   "execution_count": 36,
   "metadata": {},
   "outputs": [
    {
     "name": "stdout",
     "output_type": "stream",
     "text": [
      "4000\n"
     ]
    }
   ],
   "source": [
    "x = 1000\n",
    "y = 3000\n",
    "\n",
    "print (x+y)"
   ]
  },
  {
   "cell_type": "code",
   "execution_count": null,
   "metadata": {},
   "outputs": [],
   "source": [
    "count = 1\n",
    "while count <= 5:\n",
    "    print (count)\n",
    "    "
   ]
  },
  {
   "cell_type": "code",
   "execution_count": 4,
   "metadata": {},
   "outputs": [
    {
     "name": "stdout",
     "output_type": "stream",
     "text": [
      "3 5 15 6 12\n"
     ]
    }
   ],
   "source": [
    "x = 3\n",
    "y = x + 2\n",
    "z = y * x\n",
    "f = z - x\n",
    "xx = x * 2\n",
    "\n",
    "print(x,y,z,xx,f)\n",
    "\n",
    "\n",
    " "
   ]
  },
  {
   "cell_type": "code",
   "execution_count": 5,
   "metadata": {},
   "outputs": [
    {
     "name": "stdout",
     "output_type": "stream",
     "text": [
      "-3\n"
     ]
    }
   ],
   "source": [
    "x = 0\n",
    "for i in range(1, 6):  # i goes from 1 to 5\n",
    "    if i % 2 == 0:\n",
    "        x += i        # add if even\n",
    "    else:\n",
    "        x -= i        # subtract if odd\n",
    "print(x)\n"
   ]
  },
  {
   "cell_type": "code",
   "execution_count": 1,
   "metadata": {},
   "outputs": [
    {
     "name": "stdout",
     "output_type": "stream",
     "text": [
      "0\n",
      "1\n",
      "2\n",
      "3\n",
      "4\n"
     ]
    }
   ],
   "source": [
    "for i in range (10):\n",
    "    if i == 5:\n",
    "        break\n",
    "    else:\n",
    "        print(i)\n",
    "else:\n",
    "        print(\"Here\")"
   ]
  },
  {
   "cell_type": "code",
   "execution_count": 4,
   "metadata": {},
   "outputs": [],
   "source": [
    "x = 10\n",
    "def outer_func():\n",
    " x = 20\n",
    " def inner_func():\n",
    "  print(x)\n"
   ]
  },
  {
   "cell_type": "code",
   "execution_count": 6,
   "metadata": {},
   "outputs": [],
   "source": [
    "def greet(name):\n",
    "    print(\"Hello\", + name +\"!\")\n",
    "    greet (\"John\")\n",
    "    "
   ]
  }
 ],
 "metadata": {
  "kernelspec": {
   "display_name": "base",
   "language": "python",
   "name": "python3"
  },
  "language_info": {
   "codemirror_mode": {
    "name": "ipython",
    "version": 3
   },
   "file_extension": ".py",
   "mimetype": "text/x-python",
   "name": "python",
   "nbconvert_exporter": "python",
   "pygments_lexer": "ipython3",
   "version": "3.12.7"
  }
 },
 "nbformat": 4,
 "nbformat_minor": 2
}
