{
 "cells": [
  {
   "cell_type": "code",
   "execution_count": 5,
   "metadata": {},
   "outputs": [
    {
     "name": "stdout",
     "output_type": "stream",
     "text": [
      "\n",
      "Girls Data\n",
      "========================================\n",
      "Name      Age  Height  Score\n",
      "----------------------------------------\n",
      "Evelyn    17   5.5     80\n",
      "Jessica   16   6.0     85\n",
      "Somto     17   5.4     70\n",
      "Edith     18   5.9     66\n",
      "Liza      16   5.5     76\n",
      "Madonna   18   6.1     87\n",
      "Waje      17   6.0     95\n",
      "Tola      20   5.7     50\n",
      "Aisha     19   5.5     49\n",
      "Latifa    17   5.5     80\n",
      "\n",
      "Boys Data\n",
      "========================================\n",
      "Name      Age  Height  Score\n",
      "----------------------------------------\n",
      "Chinedu   19   5.7     74\n",
      "Liam      16   5.9     87\n",
      "Wale      18   5.6     75\n",
      "Gbenga    17   1.5     68\n",
      "Abiola    20   9.5     66\n",
      "Kola      19   5.1     78\n",
      "Kunle     16   5.9     98\n",
      "George    18   5.5     54\n",
      "Thomas    5    8.5     60\n",
      "Wesley    7    7.0     60\n"
     ]
    }
   ],
   "source": [
    "# Data representation\n",
    "girls = [\n",
    "    (\"Evelyn\", 17, 5.5, 80),\n",
    "    (\"Jessica\", 16, 6.0, 85),\n",
    "    (\"Somto\", 17, 5.4, 70),\n",
    "    (\"Edith\", 18, 5.9, 66),\n",
    "    (\"Liza\", 16, 5.5, 76),\n",
    "    (\"Madonna\", 18, 6.1, 87),\n",
    "    (\"Waje\", 17, 6.0, 95),\n",
    "    (\"Tola\", 20, 5.7, 50),\n",
    "    (\"Aisha\", 19, 5.5, 49),\n",
    "    (\"Latifa\", 17, 5.5, 80),\n",
    "]\n",
    "\n",
    "boys = [\n",
    "    (\"Chinedu\", 19, 5.7, 74),\n",
    "    (\"Liam\", 16, 5.9, 87),\n",
    "    (\"Wale\", 18, 5.6, 75),\n",
    "    (\"Gbenga\", 17, 1.5, 68),\n",
    "    (\"Abiola\", 20, 9.5, 66),\n",
    "    (\"Kola\", 19, 5.1, 78),\n",
    "    (\"Kunle\", 16, 5.9, 98),\n",
    "    (\"George\", 18, 5.5, 54),\n",
    "    (\"Thomas\", 5, 8.5, 60),\n",
    "    (\"Wesley\", 7, 7.0, 60),\n",
    "]\n",
    "\n",
    "# Function for table\n",
    "def print_table(data, title):\n",
    "    print(f\"\\n{title}\")\n",
    "    print(\"=\" * 40)\n",
    "    print(f\"{'Name':<10}{'Age':<5}{'Height':<8}{'Score'}\")\n",
    "    print(\"-\" * 40)\n",
    "    \n",
    "    for entry in data:\n",
    "        name, age, height, score = entry\n",
    "        print(f\"{name:<10}{age:<5}{height:<8}{score}\")\n",
    "\n",
    "# Display tables\n",
    "print_table(girls, \"Girls Data\")\n",
    "print_table(boys, \"Boys Data\")\n"
   ]
  }
 ],
 "metadata": {
  "kernelspec": {
   "display_name": "base",
   "language": "python",
   "name": "python3"
  },
  "language_info": {
   "codemirror_mode": {
    "name": "ipython",
    "version": 3
   },
   "file_extension": ".py",
   "mimetype": "text/x-python",
   "name": "python",
   "nbconvert_exporter": "python",
   "pygments_lexer": "ipython3",
   "version": "3.12.7"
  }
 },
 "nbformat": 4,
 "nbformat_minor": 2
}
